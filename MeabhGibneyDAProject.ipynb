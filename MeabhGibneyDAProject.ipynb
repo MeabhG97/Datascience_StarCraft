{
 "cells": [
  {
   "cell_type": "markdown",
   "metadata": {},
   "source": [
    "# Predicting the Outcome of Starcraft II matches"
   ]
  },
  {
   "cell_type": "markdown",
   "metadata": {},
   "source": [
    "Importing required libaries"
   ]
  },
  {
   "cell_type": "code",
   "execution_count": 2,
   "metadata": {},
   "outputs": [],
   "source": [
    "import numpy as np\n",
    "import pandas as pd\n",
    "import seaborn as sns\n",
    "import matplotlib.pyplot as plt\n",
    "from matplotlib.pyplot import figure"
   ]
  },
  {
   "cell_type": "markdown",
   "metadata": {},
   "source": [
    "## Business Understanding"
   ]
  },
  {
   "cell_type": "markdown",
   "metadata": {},
   "source": [
    "## Data Mining"
   ]
  },
  {
   "cell_type": "markdown",
   "metadata": {},
   "source": [
    "The data used for this project was scraped from http://aligulac.com/. Aligulac has results of Starcraft II matches going back to February 2010. For this project I will be using results from the previous two years, 73k matches.\n",
    "\n",
    "The code for the web scraping can be found in DataMining.ipynb.\n",
    "\n",
    "Difficulties faced when web scraping:\n",
    "- To get a large enough data set multiple webpages would have to be visited.\n",
    "  - This was solved using selenium to navigate to the next page.\n",
    "- Some players were missing their country and an alternative empty value was not being recorded affecting the resulting data set.\n",
    "  - The lengths of the table cells the players country and other information was different depending on whether or not country info was present. Using this it was possible to add an empty value for players without a country listed.\n",
    "- The other match information, rated/unrated, online/lan, game version. Did not include anything to represent a rated match, only unrated.\n",
    "  - I assumed all unmarked matches were rated. Again the length of the table cell varied if the unrated symbol was included or not.  "
   ]
  },
  {
   "cell_type": "markdown",
   "metadata": {},
   "source": [
    "## Data Cleaning"
   ]
  },
  {
   "cell_type": "markdown",
   "metadata": {},
   "source": [
    "## Data Exploration"
   ]
  },
  {
   "cell_type": "markdown",
   "metadata": {},
   "source": [
    "## Feature Engineering"
   ]
  },
  {
   "cell_type": "markdown",
   "metadata": {},
   "source": [
    "## Predictive Modelling"
   ]
  },
  {
   "cell_type": "markdown",
   "metadata": {},
   "source": [
    "## Findings"
   ]
  }
 ],
 "metadata": {
  "kernelspec": {
   "display_name": "Python 3",
   "language": "python",
   "name": "python3"
  },
  "language_info": {
   "codemirror_mode": {
    "name": "ipython",
    "version": 3
   },
   "file_extension": ".py",
   "mimetype": "text/x-python",
   "name": "python",
   "nbconvert_exporter": "python",
   "pygments_lexer": "ipython3",
   "version": "3.10.12"
  }
 },
 "nbformat": 4,
 "nbformat_minor": 2
}
