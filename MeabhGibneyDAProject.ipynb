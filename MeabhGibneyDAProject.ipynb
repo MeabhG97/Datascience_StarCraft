{
 "cells": [
  {
   "cell_type": "markdown",
   "metadata": {},
   "source": [
    "# Predicting the Outcome of Starcraft II matches"
   ]
  },
  {
   "cell_type": "markdown",
   "metadata": {},
   "source": [
    "Importing required libaries"
   ]
  },
  {
   "cell_type": "code",
   "execution_count": 14,
   "metadata": {},
   "outputs": [],
   "source": [
    "import numpy as np\n",
    "import pandas as pd\n",
    "import seaborn as sns\n",
    "import matplotlib.pyplot as plt\n",
    "from matplotlib.pyplot import figure"
   ]
  },
  {
   "cell_type": "markdown",
   "metadata": {},
   "source": [
    "## Business Understanding"
   ]
  },
  {
   "cell_type": "markdown",
   "metadata": {},
   "source": [
    "## Data Mining"
   ]
  },
  {
   "cell_type": "markdown",
   "metadata": {},
   "source": [
    "The data used for this project was scraped from http://aligulac.com/. Aligulac has results of Starcraft II matches going back to February 2010. For this project I will be using results from the previous two years, 73k matches.\n",
    "\n",
    "The code for the web scraping can be found in DataMining.ipynb.\n",
    "\n",
    "Difficulties faced when web scraping:\n",
    "- To get a large enough data set multiple webpages would have to be visited.\n",
    "  - This was solved using selenium to navigate to the next page.\n",
    "- Some players were missing their country and an alternative empty value was not being recorded affecting the resulting data set.\n",
    "  - The lengths of the table cells the players country and other information was different depending on whether or not country info was present. Using this it was possible to add an empty value for players without a country listed.\n",
    "- The other match information, rated/unrated, online/lan, game version. Did not include anything to represent a rated match, only unrated.\n",
    "  - I assumed all unmarked matches were rated. Again the length of the table cell varied if the unrated symbol was included or not.  "
   ]
  },
  {
   "cell_type": "markdown",
   "metadata": {},
   "source": [
    "## Data Cleaning"
   ]
  },
  {
   "cell_type": "code",
   "execution_count": 15,
   "metadata": {},
   "outputs": [],
   "source": [
    "data = pd.read_csv(\"data.csv\")"
   ]
  },
  {
   "cell_type": "markdown",
   "metadata": {},
   "source": [
    "### Data Types  "
   ]
  },
  {
   "cell_type": "markdown",
   "metadata": {},
   "source": [
    "- MatchId           Numerical Discreet      Ignored\n",
    "- PlayerAName       Categorical Nominal     Ignored\n",
    "- PlayerARating     Numeric Discreet        Explanitory\n",
    "- PlayerARace       Categorical Nominal     Explanitory\n",
    "- PlayerBName       Categorical Nominal     Ignored\n",
    "- PlayerBRating     Numeric Discreet        Explanitory\n",
    "- PlayerBRace       Categorical Nominal     Explanitory\n",
    "- GameVersion       Categorical Nominal     Ignored\n",
    "- isRatedMatch      Categorical Nominal     Likely Ignored\n",
    "- isLan             Categorical Nominal     Explanitory\n",
    "- MapScore          Categorical Nominal     Explanitory\n",
    "- PlayerAWin        Numeric Discreet        Response"
   ]
  },
  {
   "cell_type": "code",
   "execution_count": 16,
   "metadata": {},
   "outputs": [
    {
     "name": "stdout",
     "output_type": "stream",
     "text": [
      "<class 'pandas.core.frame.DataFrame'>\n",
      "RangeIndex: 73486 entries, 0 to 73485\n",
      "Data columns (total 14 columns):\n",
      " #   Column          Non-Null Count  Dtype \n",
      "---  ------          --------------  ----- \n",
      " 0   MatchId         73486 non-null  int64 \n",
      " 1   PlayerAName     73486 non-null  object\n",
      " 2   PlayerACountry  73191 non-null  object\n",
      " 3   PlayerARating   72028 non-null  object\n",
      " 4   PlayerARace     73486 non-null  object\n",
      " 5   PlayerBName     73486 non-null  object\n",
      " 6   PlayerBCountry  72902 non-null  object\n",
      " 7   PlayerBRating   71583 non-null  object\n",
      " 8   PlayerBRace     73486 non-null  object\n",
      " 9   GameVersion     73486 non-null  object\n",
      " 10  isRatedMatch    73486 non-null  object\n",
      " 11  isLan           73486 non-null  object\n",
      " 12  MapScore        73486 non-null  object\n",
      " 13  PlayerAWin      73486 non-null  int64 \n",
      "dtypes: int64(2), object(12)\n",
      "memory usage: 7.8+ MB\n",
      "None\n"
     ]
    }
   ],
   "source": [
    "print(data.info())"
   ]
  },
  {
   "cell_type": "markdown",
   "metadata": {},
   "source": [
    "### Missing Values"
   ]
  },
  {
   "cell_type": "markdown",
   "metadata": {},
   "source": [
    "  Due to the size of the dataset, I have decided that removing rows that are missing information, player rating or player nationality, will not have a major impact on the dataset and is a suitable method to deal with missing values."
   ]
  },
  {
   "cell_type": "code",
   "execution_count": 17,
   "metadata": {},
   "outputs": [
    {
     "name": "stdout",
     "output_type": "stream",
     "text": [
      "MatchId              0\n",
      "PlayerAName          0\n",
      "PlayerACountry     295\n",
      "PlayerARating     1458\n",
      "PlayerARace          0\n",
      "PlayerBName          0\n",
      "PlayerBCountry     584\n",
      "PlayerBRating     1903\n",
      "PlayerBRace          0\n",
      "GameVersion          0\n",
      "isRatedMatch         0\n",
      "isLan                0\n",
      "MapScore             0\n",
      "PlayerAWin           0\n",
      "dtype: int64\n",
      "MatchId           0\n",
      "PlayerAName       0\n",
      "PlayerACountry    0\n",
      "PlayerARating     0\n",
      "PlayerARace       0\n",
      "PlayerBName       0\n",
      "PlayerBCountry    0\n",
      "PlayerBRating     0\n",
      "PlayerBRace       0\n",
      "GameVersion       0\n",
      "isRatedMatch      0\n",
      "isLan             0\n",
      "MapScore          0\n",
      "PlayerAWin        0\n",
      "dtype: int64\n"
     ]
    }
   ],
   "source": [
    "print(data.isnull().sum())\n",
    "\n",
    "data = data.drop(data[data.PlayerACountry.isnull()].index)\n",
    "data = data.drop(data[data.PlayerARating.isnull()].index)\n",
    "data = data.drop(data[data.PlayerBCountry.isnull()].index)\n",
    "data = data.drop(data[data.PlayerBRating.isnull()].index)\n",
    "\n",
    "print(data.isnull().sum())"
   ]
  },
  {
   "cell_type": "markdown",
   "metadata": {},
   "source": [
    "### Converting Data Types"
   ]
  },
  {
   "cell_type": "markdown",
   "metadata": {},
   "source": [
    " Some of the numeric data types in the csv file were interpeted as strings. I am converting these back to numeric. "
   ]
  },
  {
   "cell_type": "code",
   "execution_count": 18,
   "metadata": {},
   "outputs": [
    {
     "name": "stdout",
     "output_type": "stream",
     "text": [
      "<class 'pandas.core.frame.DataFrame'>\n",
      "Index: 69476 entries, 0 to 73485\n",
      "Data columns (total 14 columns):\n",
      " #   Column          Non-Null Count  Dtype \n",
      "---  ------          --------------  ----- \n",
      " 0   MatchId         69476 non-null  int64 \n",
      " 1   PlayerAName     69476 non-null  object\n",
      " 2   PlayerACountry  69476 non-null  object\n",
      " 3   PlayerARating   69476 non-null  int64 \n",
      " 4   PlayerARace     69476 non-null  object\n",
      " 5   PlayerBName     69476 non-null  object\n",
      " 6   PlayerBCountry  69476 non-null  object\n",
      " 7   PlayerBRating   69476 non-null  int64 \n",
      " 8   PlayerBRace     69476 non-null  object\n",
      " 9   GameVersion     69476 non-null  object\n",
      " 10  isRatedMatch    69476 non-null  object\n",
      " 11  isLan           69476 non-null  object\n",
      " 12  MapScore        69476 non-null  object\n",
      " 13  PlayerAWin      69476 non-null  int64 \n",
      "dtypes: int64(4), object(10)\n",
      "memory usage: 8.0+ MB\n",
      "None\n"
     ]
    }
   ],
   "source": [
    "data[\"PlayerARating\"] = pd.to_numeric(data[\"PlayerARating\"])\n",
    "data[\"PlayerBRating\"] = pd.to_numeric(data[\"PlayerBRating\"])\n",
    "\n",
    "print(data.info())"
   ]
  },
  {
   "cell_type": "markdown",
   "metadata": {},
   "source": [
    "### Dropping unnecessary columns"
   ]
  },
  {
   "cell_type": "markdown",
   "metadata": {},
   "source": [
    "MatchId is unique to every match and therefore can be ignored and dropped."
   ]
  },
  {
   "cell_type": "code",
   "execution_count": 19,
   "metadata": {},
   "outputs": [],
   "source": [
    "data.drop(\"MatchId\", axis= 1, inplace= True)"
   ]
  },
  {
   "cell_type": "markdown",
   "metadata": {},
   "source": [
    "The vast majority of matches are played on the most recent game version LotV. The older game versions WoL and HotS make up a small minority of the matches. I will focus on the current version of the game, removing the matches from past versions and then dropping the column as all matches will be on the same version."
   ]
  },
  {
   "cell_type": "code",
   "execution_count": 20,
   "metadata": {},
   "outputs": [
    {
     "name": "stdout",
     "output_type": "stream",
     "text": [
      "GameVersion\n",
      "LotV    69434\n",
      "WoL        39\n",
      "HotS        3\n",
      "Name: count, dtype: int64\n"
     ]
    }
   ],
   "source": [
    "print(data[\"GameVersion\"].value_counts())"
   ]
  },
  {
   "cell_type": "code",
   "execution_count": 27,
   "metadata": {},
   "outputs": [
    {
     "name": "stdout",
     "output_type": "stream",
     "text": [
      "GameVersion\n",
      "LotV    69434\n",
      "Name: count, dtype: int64\n"
     ]
    }
   ],
   "source": [
    "data = data.drop(data[data[\"GameVersion\"] == \"WoL\"].index)\n",
    "data = data.drop(data[data[\"GameVersion\"] == \"HotS\"].index)\n",
    "print(data[\"GameVersion\"].value_counts())"
   ]
  },
  {
   "cell_type": "markdown",
   "metadata": {},
   "source": [
    "In the 69,434 matches there are 2,760 unique players. On average a player will appear in 25 matches. Therefore I will drop the name columns."
   ]
  },
  {
   "cell_type": "code",
   "execution_count": 44,
   "metadata": {},
   "outputs": [
    {
     "name": "stdout",
     "output_type": "stream",
     "text": [
      "2760\n"
     ]
    }
   ],
   "source": [
    "print(pd.concat([data[\"PlayerAName\"], data[\"PlayerBName\"]]).nunique())"
   ]
  },
  {
   "cell_type": "code",
   "execution_count": 45,
   "metadata": {},
   "outputs": [],
   "source": [
    "data.drop(\"PlayerAName\", axis= 1, inplace= True)\n",
    "data.drop(\"PlayerBName\", axis= 1, inplace= True)"
   ]
  },
  {
   "cell_type": "markdown",
   "metadata": {},
   "source": [
    "### Outliers"
   ]
  },
  {
   "cell_type": "markdown",
   "metadata": {},
   "source": [
    "There are no outliers in the Ratings of the players. Therefore all matches will be kept."
   ]
  },
  {
   "cell_type": "code",
   "execution_count": 48,
   "metadata": {},
   "outputs": [
    {
     "data": {
      "image/png": "[encoded data removed]",
      "text/plain": [
       "<Figure size 800x800 with 1 Axes>"
      ]
     },
     "metadata": {},
     "output_type": "display_data"
    },
    {
     "name": "stdout",
     "output_type": "stream",
     "text": [
      "count    69434.000000\n",
      "mean      1910.808955\n",
      "std        776.447167\n",
      "min       -284.000000\n",
      "25%       1191.000000\n",
      "50%       1884.000000\n",
      "75%       2545.000000\n",
      "max       3852.000000\n",
      "Name: PlayerARating, dtype: float64\n"
     ]
    },
    {
     "data": {
      "image/png": "[encoded data removed]",
      "text/plain": [
       "<Figure size 800x800 with 1 Axes>"
      ]
     },
     "metadata": {},
     "output_type": "display_data"
    },
    {
     "name": "stdout",
     "output_type": "stream",
     "text": [
      "count    69434.000000\n",
      "mean      1775.241063\n",
      "std        768.754189\n",
      "min       -284.000000\n",
      "25%       1038.000000\n",
      "50%       1721.000000\n",
      "75%       2419.000000\n",
      "max       3852.000000\n",
      "Name: PlayerBRating, dtype: float64\n"
     ]
    }
   ],
   "source": [
    "figure(num=None, figsize=(8, 8), dpi=100, facecolor=\"w\", edgecolor=\"k\")\n",
    "plt.boxplot(x= data.PlayerARating)\n",
    "plt.title(\"Boxplot of Ratings for Player A\")\n",
    "plt.ylabel(\"Rating\")\n",
    "plt.show()\n",
    "\n",
    "print(data.PlayerARating.describe())\n",
    "\n",
    "figure(num=None, figsize=(8, 8), dpi=100, facecolor=\"w\", edgecolor=\"k\")\n",
    "plt.boxplot(x= data.PlayerBRating)\n",
    "plt.title(\"Boxplot of Ratings for Player B\")\n",
    "plt.ylabel(\"Rating\")\n",
    "plt.show()\n",
    "\n",
    "print(data.PlayerBRating.describe())"
   ]
  },
  {
   "cell_type": "markdown",
   "metadata": {},
   "source": [
    "## Data Exploration"
   ]
  },
  {
   "cell_type": "markdown",
   "metadata": {},
   "source": [
    "## Feature Engineering"
   ]
  },
  {
   "cell_type": "markdown",
   "metadata": {},
   "source": [
    "## Predictive Modelling"
   ]
  },
  {
   "cell_type": "markdown",
   "metadata": {},
   "source": [
    "## Findings"
   ]
  }
 ],
 "metadata": {
  "kernelspec": {
   "display_name": "Python 3",
   "language": "python",
   "name": "python3"
  },
  "language_info": {
   "codemirror_mode": {
    "name": "ipython",
    "version": 3
   },
   "file_extension": ".py",
   "mimetype": "text/x-python",
   "name": "python",
   "nbconvert_exporter": "python",
   "pygments_lexer": "ipython3",
   "version": "3.10.12"
  }
 },
 "nbformat": 4,
 "nbformat_minor": 2
}
